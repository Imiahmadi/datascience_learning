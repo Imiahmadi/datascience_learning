{
 "cells": [
  {
   "cell_type": "code",
   "execution_count": 4,
   "id": "97dd4040-1d7f-4a35-8929-8cde3936620a",
   "metadata": {},
   "outputs": [],
   "source": [
    "import numpy as np\n",
    "import matplotlib.pyplot as plt\n",
    "\n",
    "from sklearn.pipeline import Pipeline\n",
    "from sklearn.linear_model import LinearRegression, Lasso, Ridge\n",
    "from sklearn.preprocessing import PolynomialFeatures\n",
    "from sklearn.model_selection import cross_val_score\n",
    "import warnings"
   ]
  },
  {
   "cell_type": "code",
   "execution_count": 6,
   "id": "0c300b33-d762-4317-92b9-26ee57974048",
   "metadata": {},
   "outputs": [],
   "source": [
    "def f(x): \n",
    "    return 0.2 + np.cos(8*(x-1))"
   ]
  },
  {
   "cell_type": "code",
   "execution_count": 10,
   "id": "a62fd599-6381-4a27-9194-ddf2e20fea79",
   "metadata": {},
   "outputs": [
    {
     "data": {
      "text/plain": [
       "<Figure size 1500x750 with 0 Axes>"
      ]
     },
     "metadata": {},
     "output_type": "display_data"
    }
   ],
   "source": [
    "plt.figure(figsize=(10,5), dpi = 150)\n",
    "plt.style.use(\"Solarize_Light2\")\n",
    "np.random.seed(42)\n",
    "np.set_printoptions(precision=2, linewidth=50)"
   ]
  }
 ],
 "metadata": {
  "kernelspec": {
   "display_name": "Python 3 (ipykernel)",
   "language": "python",
   "name": "python3"
  },
  "language_info": {
   "codemirror_mode": {
    "name": "ipython",
    "version": 3
   },
   "file_extension": ".py",
   "mimetype": "text/x-python",
   "name": "python",
   "nbconvert_exporter": "python",
   "pygments_lexer": "ipython3",
   "version": "3.12.7"
  }
 },
 "nbformat": 4,
 "nbformat_minor": 5
}
